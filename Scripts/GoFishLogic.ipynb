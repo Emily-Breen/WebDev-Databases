{
 "cells": [
  {
   "cell_type": "code",
   "execution_count": null,
   "id": "29e4ce76-4e85-48fe-a329-5df64467f581",
   "metadata": {},
   "outputs": [],
   "source": [
    "import cards"
   ]
  },
  {
   "cell_type": "code",
   "execution_count": null,
   "id": "3ed99758-cd61-4285-8516-14196ec63654",
   "metadata": {},
   "outputs": [],
   "source": [
    "deck = cards.build_deck()"
   ]
  },
  {
   "cell_type": "code",
   "execution_count": null,
   "id": "abccf408-9b2f-4886-aa93-0ef1449b05e7",
   "metadata": {},
   "outputs": [],
   "source": [
    "len(deck)"
   ]
  },
  {
   "cell_type": "code",
   "execution_count": null,
   "id": "c3ba5eaf-7536-4790-8682-514595c6c68b",
   "metadata": {},
   "outputs": [],
   "source": [
    "computer = []"
   ]
  },
  {
   "cell_type": "code",
   "execution_count": null,
   "id": "8eca2781-9d4e-4d1f-9073-bcba341eac09",
   "metadata": {},
   "outputs": [],
   "source": [
    "player = []"
   ]
  },
  {
   "cell_type": "code",
   "execution_count": null,
   "id": "99251dd4-7654-4128-a213-be42d2f1551c",
   "metadata": {},
   "outputs": [],
   "source": [
    "for n in range(7):\n",
    "    print(n)"
   ]
  },
  {
   "cell_type": "code",
   "execution_count": null,
   "id": "7cec54d5-5ff8-46f3-a43e-8a24c5a75a57",
   "metadata": {},
   "outputs": [],
   "source": [
    "for _ in range(7):\n",
    "    print(\"I looped!\")"
   ]
  },
  {
   "cell_type": "code",
   "execution_count": null,
   "id": "a72ad3b6-82cc-4ef4-9466-1eb72358fefa",
   "metadata": {},
   "outputs": [],
   "source": [
    "_ = 42"
   ]
  },
  {
   "cell_type": "code",
   "execution_count": null,
   "id": "72968fe1-35e6-444e-88d9-0e01e6ac255f",
   "metadata": {},
   "outputs": [],
   "source": [
    "_"
   ]
  },
  {
   "cell_type": "code",
   "execution_count": null,
   "id": "e7beeb6b-1df5-4f62-9480-5fbadae4efc2",
   "metadata": {},
   "outputs": [],
   "source": [
    "for _ in range(7):\n",
    "    computer.append(deck.pop())\n",
    "    player.append(deck.pop())"
   ]
  },
  {
   "cell_type": "code",
   "execution_count": null,
   "id": "c98a8adf-e078-4c80-a6d7-3765fce3407a",
   "metadata": {},
   "outputs": [],
   "source": [
    "len(deck)"
   ]
  },
  {
   "cell_type": "code",
   "execution_count": null,
   "id": "a2f92d99-2c38-4a82-9186-e016cd4b8f36",
   "metadata": {},
   "outputs": [],
   "source": [
    "print(computer)"
   ]
  },
  {
   "cell_type": "code",
   "execution_count": null,
   "id": "9e5d9d8a-cf54-4030-b74d-6055e848f6f7",
   "metadata": {},
   "outputs": [],
   "source": [
    "print(player)"
   ]
  },
  {
   "cell_type": "code",
   "execution_count": null,
   "id": "71903a15-e551-4963-af2f-adde316a0fb6",
   "metadata": {},
   "outputs": [],
   "source": [
    "import cards\n",
    "\n",
    "deck = cards.build_deck()\n",
    "\n",
    "computer = []\n",
    "player = []\n",
    "\n",
    "for _ in range(7):\n",
    "    computer.append(deck.pop())\n",
    "    player.append(deck.pop())\n",
    "\n",
    "print(f\"Here are your current cards:\\n\\n{player}\")"
   ]
  },
  {
   "cell_type": "code",
   "execution_count": null,
   "id": "b306d89b-4eef-4462-ba86-cf5104877245",
   "metadata": {},
   "outputs": [],
   "source": [
    "computer"
   ]
  },
  {
   "cell_type": "code",
   "execution_count": null,
   "id": "f2b766a4-f2b8-49f2-b1f2-69531448554d",
   "metadata": {},
   "outputs": [],
   "source": [
    "player"
   ]
  },
  {
   "cell_type": "code",
   "execution_count": null,
   "id": "3ae3db93-398c-498e-8f32-0de019c231ef",
   "metadata": {},
   "outputs": [],
   "source": [
    "player.sort()"
   ]
  },
  {
   "cell_type": "code",
   "execution_count": null,
   "id": "9a348ecc-b784-4cfb-b19b-2e4e13524ead",
   "metadata": {},
   "outputs": [],
   "source": [
    "player"
   ]
  },
  {
   "cell_type": "code",
   "execution_count": null,
   "id": "9536f524-d9e8-4631-afb9-ab2bed2366eb",
   "metadata": {},
   "outputs": [],
   "source": [
    "computer.sort()"
   ]
  },
  {
   "cell_type": "code",
   "execution_count": null,
   "id": "5e736371-47e2-4ef8-8121-57281729abad",
   "metadata": {},
   "outputs": [],
   "source": [
    "computer"
   ]
  },
  {
   "cell_type": "code",
   "execution_count": null,
   "id": "a3ef01b3-797c-4062-9826-5f81db452e19",
   "metadata": {},
   "outputs": [],
   "source": [
    "card = \"Queen of Hearts\""
   ]
  },
  {
   "cell_type": "code",
   "execution_count": null,
   "id": "10a2ede6-dfc8-430b-87f3-01d0966af05b",
   "metadata": {},
   "outputs": [],
   "source": [
    "card"
   ]
  },
  {
   "cell_type": "code",
   "execution_count": null,
   "id": "361caa3b-422e-439e-a89a-2606cc83adb4",
   "metadata": {},
   "outputs": [],
   "source": [
    "print(dir(str))"
   ]
  },
  {
   "cell_type": "code",
   "execution_count": null,
   "id": "0e182f7c-c3c6-4a36-9237-12eb58898681",
   "metadata": {},
   "outputs": [],
   "source": [
    "card.find(\" \")"
   ]
  },
  {
   "cell_type": "code",
   "execution_count": null,
   "id": "30a27868-266a-4e83-a206-3fa62821789a",
   "metadata": {},
   "outputs": [],
   "source": [
    "card[:2]"
   ]
  },
  {
   "cell_type": "code",
   "execution_count": null,
   "id": "77fd242d-2d03-4bf7-97f9-7965cbee2255",
   "metadata": {},
   "outputs": [],
   "source": [
    "card[:card.find(\" \")]"
   ]
  },
  {
   "cell_type": "code",
   "execution_count": null,
   "id": "33efbc14-46c1-4c74-a469-c09fc40857a1",
   "metadata": {},
   "outputs": [],
   "source": [
    "player"
   ]
  },
  {
   "cell_type": "raw",
   "id": "94f931f9-870c-4b09-a478-ea67c01f6220",
   "metadata": {},
   "source": [
    "\n",
    "for card in player:\n",
    "    current = card[:card.find(\" \")]\n",
    "    _next = ?????????????\n",
    "    print(current)\n"
   ]
  },
  {
   "cell_type": "code",
   "execution_count": null,
   "id": "445ec6e8-b941-4272-8a71-f00add263681",
   "metadata": {},
   "outputs": [],
   "source": [
    "how_many = len(player)"
   ]
  },
  {
   "cell_type": "code",
   "execution_count": null,
   "id": "a9ee6b0b-b963-494e-9d55-27ab7e0e2211",
   "metadata": {},
   "outputs": [],
   "source": [
    "how_many"
   ]
  },
  {
   "cell_type": "code",
   "execution_count": null,
   "id": "6583320a-0aa5-46dc-9893-8355a11b764c",
   "metadata": {},
   "outputs": [],
   "source": [
    "list(range(how_many))"
   ]
  },
  {
   "cell_type": "code",
   "execution_count": null,
   "id": "24bdbdab-b8b3-41c9-a419-e9a32bec63ae",
   "metadata": {},
   "outputs": [],
   "source": [
    "for i in range(how_many):\n",
    "    current_card = player[i]\n",
    "    _current = current_card[:current_card.find(\" \")]\n",
    "    next_card = player[i+1]\n",
    "    _next = next_card[:next_card.find(\" \")]\n",
    "\n",
    "    print(_current, _next)"
   ]
  },
  {
   "cell_type": "code",
   "execution_count": null,
   "id": "a27d8ed7-c86c-416e-bad6-b3e3448e32c1",
   "metadata": {},
   "outputs": [],
   "source": [
    "player = ['10 of Diamonds',\n",
    "          '10 of Spades',\n",
    "          '4 of Clubs',\n",
    "          '6 of Diamonds',\n",
    "          '8 of Clubs',\n",
    "          'Ace of Clubs',\n",
    "          'King of Clubs']\n",
    "\n",
    "for i in range(how_many):\n",
    "    current_card = player[i]\n",
    "    _current = current_card[:current_card.find(\" \")]\n",
    "    next_card = player[i+1]\n",
    "    _next = next_card[:next_card.find(\" \")]\n",
    "\n",
    "    print(_current, _next)\n",
    "    \n",
    "    if _current == _next:\n",
    "        print(len(player))\n",
    "        print(player.pop(i))\n",
    "        print(player.pop(i+1))\n",
    "        print(len(player))\n",
    "    \n",
    "    print(_current, _next)"
   ]
  },
  {
   "cell_type": "markdown",
   "id": "9e116e60-37c3-421b-864f-fae32c62c361",
   "metadata": {},
   "source": [
    "### This is where we start Wed 25th September"
   ]
  },
  {
   "cell_type": "code",
   "execution_count": null,
   "id": "d8ecfc25-a3f4-40e5-aa28-9cd40592280e",
   "metadata": {},
   "outputs": [],
   "source": [
    "player"
   ]
  },
  {
   "cell_type": "code",
   "execution_count": null,
   "id": "7ad75b9b-e1a2-457a-aa1b-dac958b75b0b",
   "metadata": {},
   "outputs": [],
   "source": [
    "player = ['10 of Diamonds',\n",
    "          '10 of Spades',\n",
    "          '4 of Clubs',\n",
    "          '6 of Diamonds',\n",
    "          '6 of Clubs',\n",
    "          'Ace of Clubs',\n",
    "          'King of Clubs']"
   ]
  },
  {
   "cell_type": "code",
   "execution_count": null,
   "id": "9f4e6963-c8e1-4151-aa58-5f0dd8ab6970",
   "metadata": {},
   "outputs": [],
   "source": [
    "values = []\n",
    "for card in player:\n",
    "    value = card[:card.find(\" \")]\n",
    "    values.append(value)"
   ]
  },
  {
   "cell_type": "code",
   "execution_count": null,
   "id": "b462e61f-c88c-4d21-be91-b1b0a0750692",
   "metadata": {},
   "outputs": [],
   "source": [
    "values"
   ]
  },
  {
   "cell_type": "code",
   "execution_count": null,
   "id": "b9b82434-8dad-4f7d-bd6c-8e43b8f3ab6e",
   "metadata": {},
   "outputs": [],
   "source": [
    "set(values)"
   ]
  },
  {
   "cell_type": "code",
   "execution_count": null,
   "id": "642a21e7-4493-4143-9aa3-37e05986865a",
   "metadata": {},
   "outputs": [],
   "source": [
    "from collections import Counter"
   ]
  },
  {
   "cell_type": "code",
   "execution_count": null,
   "id": "1119818a-9fc6-435e-a95a-c84ad1d27544",
   "metadata": {},
   "outputs": [],
   "source": [
    "c = Counter(values)"
   ]
  },
  {
   "cell_type": "code",
   "execution_count": null,
   "id": "9d56f921-edf6-4cb0-a67d-9334df66a9e2",
   "metadata": {},
   "outputs": [],
   "source": [
    "c"
   ]
  },
  {
   "cell_type": "code",
   "execution_count": null,
   "id": "eac7e753-0cca-409a-954d-a3c690eb4260",
   "metadata": {},
   "outputs": [],
   "source": [
    "for k, v in c.items():\n",
    "    print(k, \" -> \", v)"
   ]
  },
  {
   "cell_type": "code",
   "execution_count": null,
   "id": "7b4e67c7-8b77-4cbf-b184-5155cefc0701",
   "metadata": {},
   "outputs": [],
   "source": [
    "print(dir(c))"
   ]
  },
  {
   "cell_type": "code",
   "execution_count": null,
   "id": "90a3ea5d-d442-4c3d-9209-93158890bf58",
   "metadata": {},
   "outputs": [],
   "source": [
    "print(dir(dict))"
   ]
  },
  {
   "cell_type": "code",
   "execution_count": null,
   "id": "746b0437-bc0e-4a08-873f-5f4a1666830e",
   "metadata": {},
   "outputs": [],
   "source": [
    "c.most_common()"
   ]
  },
  {
   "cell_type": "code",
   "execution_count": null,
   "id": "2993f135-900e-40a1-9d4f-c8e1eb3ed4c7",
   "metadata": {},
   "outputs": [],
   "source": [
    "pairs = []"
   ]
  },
  {
   "cell_type": "code",
   "execution_count": null,
   "id": "02a1e480-32e1-4b15-a5fb-a02ad7d98f5e",
   "metadata": {},
   "outputs": [],
   "source": [
    "for k, v in c.items(): # k is the KEY part, v is the VALUE part.\n",
    "    if v == 2:\n",
    "        pairs.append(k)"
   ]
  },
  {
   "cell_type": "code",
   "execution_count": null,
   "id": "a9ceb479-0ccc-4dee-83f7-c411739eb74a",
   "metadata": {},
   "outputs": [],
   "source": [
    "pairs"
   ]
  },
  {
   "cell_type": "code",
   "execution_count": null,
   "id": "77a2f3e8-ca0d-4172-8274-23865d16c393",
   "metadata": {},
   "outputs": [],
   "source": [
    "print(player)"
   ]
  },
  {
   "cell_type": "code",
   "execution_count": null,
   "id": "c0d5ef31-c382-4df0-89eb-e98123772f5b",
   "metadata": {},
   "outputs": [],
   "source": [
    "player_pairs = []"
   ]
  },
  {
   "cell_type": "code",
   "execution_count": null,
   "id": "e802da02-acbc-476b-8ee7-13ce5570a2df",
   "metadata": {},
   "outputs": [],
   "source": [
    "to_remove = []\n",
    "for p in pairs:\n",
    "    for card in player:\n",
    "        if card.startswith(p):\n",
    "            to_remove.append(card)"
   ]
  },
  {
   "cell_type": "code",
   "execution_count": null,
   "id": "4959b852-9fc7-476a-b2f0-d677105986f3",
   "metadata": {},
   "outputs": [],
   "source": [
    "to_remove"
   ]
  },
  {
   "cell_type": "code",
   "execution_count": null,
   "id": "f7322999-5cb3-4492-b9b8-e76fed1526ab",
   "metadata": {},
   "outputs": [],
   "source": [
    "player"
   ]
  },
  {
   "cell_type": "code",
   "execution_count": null,
   "id": "744b0052-e46e-429f-be6a-544cd1d61097",
   "metadata": {},
   "outputs": [],
   "source": [
    "player_pairs.extend(to_remove)"
   ]
  },
  {
   "cell_type": "code",
   "execution_count": null,
   "id": "acae1dd9-f26c-4b96-89a2-5d34a62e28f1",
   "metadata": {},
   "outputs": [],
   "source": [
    "player_pairs"
   ]
  },
  {
   "cell_type": "code",
   "execution_count": null,
   "id": "d7b1a072-914f-424b-bbc1-9db19cb39d5e",
   "metadata": {},
   "outputs": [],
   "source": [
    "for card in to_remove:\n",
    "    player.remove(card)"
   ]
  },
  {
   "cell_type": "code",
   "execution_count": null,
   "id": "e91a8755-e6ea-477f-86c9-6132a98f6e7a",
   "metadata": {},
   "outputs": [],
   "source": [
    "player"
   ]
  },
  {
   "cell_type": "code",
   "execution_count": null,
   "id": "e5e5da88-61f8-4d86-b790-3ab8ef1badf8",
   "metadata": {},
   "outputs": [],
   "source": [
    "import cards\n",
    "\n",
    "deck = cards.build_deck()\n",
    "\n",
    "computer = []\n",
    "player = []\n",
    "\n",
    "for _ in range(7):\n",
    "    computer.append(deck.pop())\n",
    "    player.append(deck.pop())\n",
    "\n",
    "player.sort()\n",
    "computer.sort()\n",
    "\n",
    "print(f\"Here are your current cards:\\n\\n{player}\")\n",
    "print(f\"\\nHere are the computer's current cards:\\n\\n{computer}\")"
   ]
  },
  {
   "cell_type": "code",
   "execution_count": null,
   "id": "1e283b60-4a1c-497b-8925-fe86c8f3dfc5",
   "metadata": {},
   "outputs": [],
   "source": [
    "player = ['4 of Hearts', \n",
    "          '8 of Spades', \n",
    "          '8 of Diamonds', \n",
    "          '8 of Hearts', \n",
    "          '10 of Spades', \n",
    "          'Jack of Spades', \n",
    "          'King of Diamonds']"
   ]
  },
  {
   "cell_type": "code",
   "execution_count": null,
   "id": "74086ecb-129c-4096-ab93-a94a898e07fe",
   "metadata": {},
   "outputs": [],
   "source": [
    "player_pairs = []\n",
    "computer_pairs = []"
   ]
  },
  {
   "cell_type": "code",
   "execution_count": null,
   "id": "0c3a6828-d7d4-4fa5-992c-6c86d31ee8b3",
   "metadata": {},
   "outputs": [],
   "source": [
    "from collections import Counter\n",
    "\n",
    "def identify_remove_pairs(hand):\n",
    "    \"\"\" This function receives a list of cards (called \"hand\"), then processes them to \n",
    "        identify any pairs of cards, and if found removes the pairs from the hand and returns\n",
    "        two lists: the hand with the pairs removed, and a list of removed cards. \n",
    "    \"\"\"\n",
    "    values = []\n",
    "    thirds = set()\n",
    "    for card in hand:\n",
    "        value = card[:card.find(\" \")]\n",
    "        values.append(value)    \n",
    "    c = Counter(values)\n",
    "    pairs = []\n",
    "    for k, v in c.items(): # k is the KEY part, v is the VALUE part.\n",
    "        if v in [2, 4]:\n",
    "            pairs.append(k)\n",
    "        elif v == 3:\n",
    "            pairs.append(k)\n",
    "            thirds.add(k)\n",
    "    add_back_in = []\n",
    "    for value in thirds:    \n",
    "        for card in hand:\n",
    "            if card.startswith(value):\n",
    "                add_back_in.append(card)\n",
    "                break\n",
    "    to_remove = []\n",
    "    for p in pairs:\n",
    "        for card in hand:\n",
    "            if card.startswith(p):\n",
    "                to_remove.append(card) \n",
    "    for card in to_remove:\n",
    "        hand.remove(card)\n",
    "    for card in add_back_in:\n",
    "        hand.append(card)\n",
    "        to_remove.remove(card)        \n",
    "    return hand, to_remove"
   ]
  },
  {
   "cell_type": "code",
   "execution_count": null,
   "id": "810f587a-98de-43f8-99eb-9675557da806",
   "metadata": {},
   "outputs": [],
   "source": [
    "player"
   ]
  },
  {
   "cell_type": "code",
   "execution_count": null,
   "id": "02b7a4cd-cdef-4b44-b586-63402e2048d8",
   "metadata": {},
   "outputs": [],
   "source": [
    "computer"
   ]
  },
  {
   "cell_type": "code",
   "execution_count": null,
   "id": "fc268067-a19a-415d-8e9c-3f321c7273f0",
   "metadata": {},
   "outputs": [],
   "source": [
    "player, pairs = identify_remove_pairs(player)\n",
    "player_pairs.extend(pairs)"
   ]
  },
  {
   "cell_type": "code",
   "execution_count": null,
   "id": "ca9377af-8cb3-4a99-b5a6-a98d6d6bdf83",
   "metadata": {},
   "outputs": [],
   "source": [
    "computer, pairs = identify_remove_pairs(computer)\n",
    "computer_pairs.extend(pairs)"
   ]
  },
  {
   "cell_type": "code",
   "execution_count": null,
   "id": "31c2d5c9-8990-4c65-8115-f6e7d87f01ab",
   "metadata": {},
   "outputs": [],
   "source": [
    "player"
   ]
  },
  {
   "cell_type": "code",
   "execution_count": null,
   "id": "88cb3001-b1d1-4dd0-804f-3ca12060d4e1",
   "metadata": {},
   "outputs": [],
   "source": [
    "player_pairs"
   ]
  },
  {
   "cell_type": "code",
   "execution_count": null,
   "id": "03b21ed8-43cc-4621-9bc1-f3b7735578cb",
   "metadata": {},
   "outputs": [],
   "source": [
    "computer"
   ]
  },
  {
   "cell_type": "code",
   "execution_count": null,
   "id": "6fd9a3db-e0c4-4929-82cf-e591c35a69b6",
   "metadata": {},
   "outputs": [],
   "source": [
    "computer_pairs"
   ]
  },
  {
   "cell_type": "code",
   "execution_count": null,
   "id": "ee20f6b0-40c0-44a3-8941-91b3e6460118",
   "metadata": {},
   "outputs": [],
   "source": [
    "identify_remove_pairs(player)"
   ]
  },
  {
   "cell_type": "code",
   "execution_count": null,
   "id": "4b110dc8-fe30-460e-9979-5cf62f8a50d9",
   "metadata": {},
   "outputs": [],
   "source": []
  }
 ],
 "metadata": {
  "kernelspec": {
   "display_name": "Python 3 (ipykernel)",
   "language": "python",
   "name": "python3"
  },
  "language_info": {
   "codemirror_mode": {
    "name": "ipython",
    "version": 3
   },
   "file_extension": ".py",
   "mimetype": "text/x-python",
   "name": "python",
   "nbconvert_exporter": "python",
   "pygments_lexer": "ipython3",
   "version": "3.12.6"
  }
 },
 "nbformat": 4,
 "nbformat_minor": 5
}
