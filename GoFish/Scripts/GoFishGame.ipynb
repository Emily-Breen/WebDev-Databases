{
 "cells": [
  {
   "cell_type": "code",
   "execution_count": null,
   "id": "0be8d6b3-5682-4daf-819e-eeb16ebf64da",
   "metadata": {},
   "outputs": [],
   "source": [
    "import cards\n",
    "\n",
    "deck = cards.build_deck()\n",
    "\n",
    "computer = []\n",
    "player = []\n",
    "player_pairs = []\n",
    "computer_pairs = []\n",
    "\n",
    "for _ in range(7):\n",
    "    computer.append(deck.pop())\n",
    "    player.append(deck.pop())\n",
    "\n",
    "player.sort()\n",
    "computer.sort()\n",
    "\n",
    "player, pairs = cards.identify_remove_pairs(player)\n",
    "player_pairs.extend(pairs)\n",
    "computer, pairs = cards.identify_remove_pairs(computer)\n",
    "computer_pairs.extend(pairs)\n",
    "\n",
    "print(f\"Here are your current cards:\\n\\n{player}\")\n",
    "## print(f\"\\nHere are the computer's current cards:\\n\\n{computer}\")\n"
   ]
  },
  {
   "cell_type": "code",
   "execution_count": null,
   "id": "7e638f51-854e-47be-83e9-8203f19ae0e3",
   "metadata": {},
   "outputs": [],
   "source": [
    "for card in player:\n",
    "    print(card)"
   ]
  },
  {
   "cell_type": "code",
   "execution_count": null,
   "id": "d0439c24-8962-4f9f-890e-40d9593fd98d",
   "metadata": {},
   "outputs": [],
   "source": [
    "computer"
   ]
  },
  {
   "cell_type": "code",
   "execution_count": null,
   "id": "b5fa082e-c582-4d6a-bc28-7258a7a293e6",
   "metadata": {},
   "outputs": [],
   "source": [
    "for n, card in enumerate(player):\n",
    "    print(f\"{n}: {card}\")"
   ]
  },
  {
   "cell_type": "code",
   "execution_count": null,
   "id": "04716898-1dd8-48ee-a679-ec6bafc093f8",
   "metadata": {},
   "outputs": [],
   "source": [
    "choice = input(\"Please select the number for the card you want from the above list.\")"
   ]
  },
  {
   "cell_type": "code",
   "execution_count": null,
   "id": "8508f0a4-c801-42fc-96e4-4ade5b7656fc",
   "metadata": {},
   "outputs": [],
   "source": [
    "choice"
   ]
  },
  {
   "cell_type": "code",
   "execution_count": null,
   "id": "6fb0ac14-e862-47b4-9e83-8fd0849ea24f",
   "metadata": {},
   "outputs": [],
   "source": [
    "int(choice)"
   ]
  },
  {
   "cell_type": "code",
   "execution_count": null,
   "id": "aedef66a-11fa-4759-acd3-48cbb6cabe5a",
   "metadata": {},
   "outputs": [],
   "source": [
    "selection = player[ int(choice) ]"
   ]
  },
  {
   "cell_type": "code",
   "execution_count": null,
   "id": "3eec88ad-7d0b-40ba-8e5a-294b7139eb7f",
   "metadata": {},
   "outputs": [],
   "source": [
    "selection"
   ]
  },
  {
   "cell_type": "code",
   "execution_count": null,
   "id": "3e3897f3-3723-41ce-b4d8-513e995aba3c",
   "metadata": {},
   "outputs": [],
   "source": [
    "computer"
   ]
  },
  {
   "cell_type": "code",
   "execution_count": null,
   "id": "715725e2-fb3b-4a1c-ac25-26a152bc42ef",
   "metadata": {},
   "outputs": [],
   "source": [
    "value = selection[: selection.find(\" \")]"
   ]
  },
  {
   "cell_type": "code",
   "execution_count": null,
   "id": "bef0a3e5-2a53-4a67-94fc-84ff6950b7ef",
   "metadata": {},
   "outputs": [],
   "source": [
    "value"
   ]
  },
  {
   "cell_type": "code",
   "execution_count": null,
   "id": "1eb16191-82b4-43aa-9a0c-9615076c6efb",
   "metadata": {},
   "outputs": [],
   "source": [
    "found_it = False\n",
    "for card in computer:\n",
    "    if card.startswith(value):\n",
    "        found_it = True\n",
    "        break"
   ]
  },
  {
   "cell_type": "code",
   "execution_count": null,
   "id": "0ec19701-f440-4a44-895b-001a1f19f2db",
   "metadata": {},
   "outputs": [],
   "source": [
    "found_it"
   ]
  },
  {
   "cell_type": "code",
   "execution_count": null,
   "id": "86fd16de-965e-475a-a75e-f0dee36110e0",
   "metadata": {},
   "outputs": [],
   "source": [
    "found_it = False\n",
    "for n, card in enumerate(computer):\n",
    "    if card.startswith(value):\n",
    "        found_it = n\n",
    "        break"
   ]
  },
  {
   "cell_type": "code",
   "execution_count": null,
   "id": "efdf2b9c-1260-493c-8d7a-8f12beb5d25c",
   "metadata": {},
   "outputs": [],
   "source": [
    "print(player)\n",
    "print(computer)\n",
    "\n",
    "if isinstance(found_it, bool):\n",
    "    print(\"Go Fish!\")\n",
    "    player.append(deck.pop())\n",
    "else:\n",
    "    print(f\"Here is your card: {computer[n]}.\")\n",
    "    player.append(computer.pop(n))\n",
    "    \n",
    "player, pairs = cards.identify_remove_pairs(player)\n",
    "player_pairs.extend(pairs)    \n",
    "\n",
    "print(player)\n",
    "print(computer)"
   ]
  },
  {
   "cell_type": "code",
   "execution_count": null,
   "id": "1b6b30c6-94a4-450f-87b8-40577b106b62",
   "metadata": {},
   "outputs": [],
   "source": [
    "player_pairs"
   ]
  },
  {
   "cell_type": "code",
   "execution_count": null,
   "id": "7b751f03-a353-41a0-940f-f7313faac5ec",
   "metadata": {},
   "outputs": [],
   "source": [
    "isinstance(found_it, int)"
   ]
  },
  {
   "cell_type": "code",
   "execution_count": null,
   "id": "6aab0998-e91a-4637-aaac-e23f28e29c1c",
   "metadata": {},
   "outputs": [],
   "source": [
    "help(isinstance)"
   ]
  },
  {
   "cell_type": "code",
   "execution_count": null,
   "id": "96f9ac65-d56f-481d-8841-3a97070c3738",
   "metadata": {},
   "outputs": [],
   "source": [
    "isinstance(\"Hello\", str)"
   ]
  },
  {
   "cell_type": "code",
   "execution_count": null,
   "id": "1c02d1ec-9786-4f8f-b9fb-850fc02786a6",
   "metadata": {},
   "outputs": [],
   "source": [
    "isinstance(\"Hello\", int)"
   ]
  },
  {
   "cell_type": "code",
   "execution_count": null,
   "id": "1d8bfd98-3de0-4e30-b33d-3c720ae45e1c",
   "metadata": {},
   "outputs": [],
   "source": [
    "isinstance(1, int)"
   ]
  },
  {
   "cell_type": "code",
   "execution_count": null,
   "id": "c9285c85-239d-4344-afd2-09bb1d7c7513",
   "metadata": {},
   "outputs": [],
   "source": [
    "isinstance(1, str)"
   ]
  },
  {
   "cell_type": "code",
   "execution_count": null,
   "id": "94c0c3eb-5a4f-4103-a5fe-cd1b7683884a",
   "metadata": {},
   "outputs": [],
   "source": [
    "isinstance(1, bool)"
   ]
  },
  {
   "cell_type": "code",
   "execution_count": null,
   "id": "b8651d58-e4c7-4340-a0a7-7abc495e51d2",
   "metadata": {},
   "outputs": [],
   "source": [
    "isinstance(True, bool)"
   ]
  },
  {
   "cell_type": "code",
   "execution_count": null,
   "id": "8e96280e-1d31-4800-b90a-d568467f554d",
   "metadata": {},
   "outputs": [],
   "source": [
    "isinstance(False, bool)"
   ]
  },
  {
   "cell_type": "code",
   "execution_count": null,
   "id": "dd240c1f-1203-4955-b828-3cc74d3ad255",
   "metadata": {},
   "outputs": [],
   "source": [
    "isinstance(False, int)"
   ]
  },
  {
   "cell_type": "code",
   "execution_count": null,
   "id": "f994b1d9-816a-41b2-a365-24a4a35dc28d",
   "metadata": {},
   "outputs": [],
   "source": [
    "isinstance(True, int)"
   ]
  },
  {
   "cell_type": "code",
   "execution_count": null,
   "id": "f680acda-6c43-4968-b6ac-47f66abfd5c8",
   "metadata": {},
   "outputs": [],
   "source": [
    "isinstance(0, bool)"
   ]
  },
  {
   "cell_type": "code",
   "execution_count": null,
   "id": "f2e9f391-b323-4ef2-b00e-9ec9f6b80720",
   "metadata": {},
   "outputs": [],
   "source": [
    "isinstance(10, bool)"
   ]
  },
  {
   "cell_type": "code",
   "execution_count": null,
   "id": "fd654e7a-0ec4-421e-b727-42ebc0cfc99e",
   "metadata": {},
   "outputs": [],
   "source": [
    "computer"
   ]
  },
  {
   "cell_type": "code",
   "execution_count": null,
   "id": "7f3532c0-42aa-4cbe-abf0-6bc23a04cffa",
   "metadata": {},
   "outputs": [],
   "source": [
    "import random"
   ]
  },
  {
   "cell_type": "code",
   "execution_count": null,
   "id": "0c7d520f-f5c5-47ee-9ca6-6edeb3484b3e",
   "metadata": {},
   "outputs": [],
   "source": [
    "random.choice(computer)"
   ]
  },
  {
   "cell_type": "code",
   "execution_count": null,
   "id": "b255c06e-f7a6-4c19-83ab-3b02179cd48e",
   "metadata": {},
   "outputs": [],
   "source": [
    "player"
   ]
  },
  {
   "cell_type": "code",
   "execution_count": null,
   "id": "b9706a11-3102-4395-9ec5-73db99d35ee5",
   "metadata": {},
   "outputs": [],
   "source": [
    "import random\n",
    "\n",
    "print(\"player:\", player)\n",
    "print(\"computer:\", computer)\n",
    "\n",
    "card = random.choice(computer)\n",
    "value = card[: card.find(\" \")]\n",
    "\n",
    "choice = input(f\"From the computer: Do you have a {value}? (y/n) \")\n",
    "\n",
    "if choice in [\"y\", \"Y\", \"yes\", \"YES\", \"Yes\"]:\n",
    "    for n, card in enumerate(player):\n",
    "        if card.startswith(value):\n",
    "            break\n",
    "    computer.append(player.pop(n))\n",
    "else:\n",
    "    computer.append(deck.pop())\n",
    "    print(\"card drawn:\", computer[-1])\n",
    "    \n",
    "computer, pairs = cards.identify_remove_pairs(computer)\n",
    "computer_pairs.extend(pairs)\n",
    "\n",
    "print(\"player:\", player)\n",
    "print(\"computer:\", computer)\n",
    "\n"
   ]
  },
  {
   "cell_type": "code",
   "execution_count": null,
   "id": "e020d165-da6c-42e7-aa24-036e892ed29f",
   "metadata": {},
   "outputs": [],
   "source": [
    "computer_pairs"
   ]
  },
  {
   "cell_type": "code",
   "execution_count": null,
   "id": "b0662e83-7f7f-43b6-81cb-a81f2e743b55",
   "metadata": {},
   "outputs": [],
   "source": []
  }
 ],
 "metadata": {
  "kernelspec": {
   "display_name": "Python 3 (ipykernel)",
   "language": "python",
   "name": "python3"
  },
  "language_info": {
   "codemirror_mode": {
    "name": "ipython",
    "version": 3
   },
   "file_extension": ".py",
   "mimetype": "text/x-python",
   "name": "python",
   "nbconvert_exporter": "python",
   "pygments_lexer": "ipython3",
   "version": "3.12.6"
  }
 },
 "nbformat": 4,
 "nbformat_minor": 5
}
