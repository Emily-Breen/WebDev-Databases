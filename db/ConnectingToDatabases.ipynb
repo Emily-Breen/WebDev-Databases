{
 "cells": [
  {
   "cell_type": "code",
   "execution_count": 1,
   "id": "83a75fa7-625f-4704-8d2a-2cf293b620b9",
   "metadata": {},
   "outputs": [],
   "source": [
    "import DBcm"
   ]
  },
  {
   "cell_type": "code",
   "execution_count": 2,
   "id": "300a18b2-4a40-4efc-a235-70b7af6836e0",
   "metadata": {},
   "outputs": [],
   "source": [
    "creds = {\n",
    "    \"host\": \"localhost\",\n",
    "    \"user\": \"gofishuser\",\n",
    "    \"password\": \"gofishpasswd\",\n",
    "    \"database\": \"goFishDB\",\n",
    "}\n"
   ]
  },
  {
   "cell_type": "code",
   "execution_count": 3,
   "id": "e58bc39b-9541-4e1e-a182-485ce78d494c",
   "metadata": {},
   "outputs": [
    {
     "data": {
      "text/plain": [
       "{'host': 'localhost',\n",
       " 'user': 'gofishuser',\n",
       " 'password': 'gofishpasswd',\n",
       " 'database': 'goFishDB'}"
      ]
     },
     "execution_count": 3,
     "metadata": {},
     "output_type": "execute_result"
    }
   ],
   "source": [
    "creds"
   ]
  },
  {
   "cell_type": "code",
   "execution_count": 4,
   "id": "aac31bc3-f960-4750-bbaf-45d6e8fe6584",
   "metadata": {},
   "outputs": [],
   "source": [
    "SQL = \"select * from scores\""
   ]
  },
  {
   "cell_type": "code",
   "execution_count": 7,
   "id": "0456aa06-bc9a-4568-8387-f0daa93b7c97",
   "metadata": {},
   "outputs": [],
   "source": [
    "with DBcm.UseDatabase(creds) as db:\n",
    "    db.execute(SQL)\n",
    "    results = db.fetchall()"
   ]
  },
  {
   "cell_type": "code",
   "execution_count": 8,
   "id": "449d9a9e-ed5d-4f87-941b-38f247dc00dc",
   "metadata": {},
   "outputs": [
    {
     "data": {
      "text/plain": [
       "[('Fred', 55), ('Mary', 45), ('Jill', 89), ('Pat', 9)]"
      ]
     },
     "execution_count": 8,
     "metadata": {},
     "output_type": "execute_result"
    }
   ],
   "source": [
    "results"
   ]
  },
  {
   "cell_type": "code",
   "execution_count": 9,
   "id": "e9abd0e6-29e5-412e-89db-fb406926cae4",
   "metadata": {},
   "outputs": [],
   "source": [
    "with DBcm.UseDatabase(creds) as db:\n",
    "    SQL = \"select * from scores order by score desc\"\n",
    "    db.execute(SQL)\n",
    "    results = db.fetchall()"
   ]
  },
  {
   "cell_type": "code",
   "execution_count": 10,
   "id": "9b976aa9-0eb4-4668-ada6-2ce20ee2d625",
   "metadata": {},
   "outputs": [
    {
     "data": {
      "text/plain": [
       "[('Jill', 89), ('Fred', 55), ('Mary', 45), ('Pat', 9)]"
      ]
     },
     "execution_count": 10,
     "metadata": {},
     "output_type": "execute_result"
    }
   ],
   "source": [
    "results"
   ]
  },
  {
   "cell_type": "code",
   "execution_count": null,
   "id": "d64dab65-0d6a-4c62-9182-c24ba146c760",
   "metadata": {},
   "outputs": [],
   "source": []
  }
 ],
 "metadata": {
  "kernelspec": {
   "display_name": "Python 3 (ipykernel)",
   "language": "python",
   "name": "python3"
  },
  "language_info": {
   "codemirror_mode": {
    "name": "ipython",
    "version": 3
   },
   "file_extension": ".py",
   "mimetype": "text/x-python",
   "name": "python",
   "nbconvert_exporter": "python",
   "pygments_lexer": "ipython3",
   "version": "3.12.6"
  }
 },
 "nbformat": 4,
 "nbformat_minor": 5
}
